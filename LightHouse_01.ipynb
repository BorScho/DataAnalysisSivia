{
 "cells": [
  {
   "cell_type": "markdown",
   "metadata": {},
   "source": [
    "(Example from the Book p.29 ff)\n",
    "\n",
    "A lighthouse is somewhere off a piece of straight coastline at a position α (alpha) along the shore and a distance <br>\n",
    "β (beta) out at sea. It emits a series of short highly collimated flashes at random intervals and hence at random azimuths. <br>\n",
    "These pulses are intercepted on the coast by photo-detectors that record only the fact that a flash has occurred, but not <br>\n",
    "the angle from which it came. <br>\n",
    "N flashes have so far been recorded at positions {xk}. Where is the lighthouse?’\n",
    "\n",
    "<img src=\"pictures01/lightHouseGeometry.jpg\">"
   ]
  },
  {
   "cell_type": "code",
   "execution_count": 8,
   "metadata": {},
   "outputs": [
    {
     "name": "stdout",
     "output_type": "stream",
     "text": [
      "[ 0.49629109  0.35448695  0.45865123 -0.02653749 -0.82856527  0.41794044\n",
      "  0.15465916  1.15119131 -0.04743803 -1.12238909]\n"
     ]
    },
    {
     "ename": "TypeError",
     "evalue": "data_from_angle() got an unexpected keyword argument 'theta'",
     "output_type": "error",
     "traceback": [
      "\u001b[1;31m---------------------------------------------------------------------------\u001b[0m",
      "\u001b[1;31mTypeError\u001b[0m                                 Traceback (most recent call last)",
      "Cell \u001b[1;32mIn[8], line 20\u001b[0m\n\u001b[0;32m     17\u001b[0m theta_ks \u001b[38;5;241m=\u001b[39m generate_data()\n\u001b[0;32m     18\u001b[0m \u001b[38;5;28mprint\u001b[39m(theta_ks)\n\u001b[1;32m---> 20\u001b[0m x_ks \u001b[38;5;241m=\u001b[39m \u001b[43mdata_from_angle\u001b[49m\u001b[43m(\u001b[49m\u001b[43mtheta\u001b[49m\u001b[38;5;241;43m=\u001b[39;49m\u001b[43mtheta_ks\u001b[49m\u001b[43m,\u001b[49m\u001b[43m \u001b[49m\u001b[43malpha\u001b[49m\u001b[38;5;241;43m=\u001b[39;49m\u001b[43malpha\u001b[49m\u001b[43m,\u001b[49m\u001b[43m \u001b[49m\u001b[43mbeta\u001b[49m\u001b[38;5;241;43m=\u001b[39;49m\u001b[43mbeta\u001b[49m\u001b[43m)\u001b[49m\n\u001b[0;32m     21\u001b[0m \u001b[38;5;28mprint\u001b[39m(x_ks)\n",
      "\u001b[1;31mTypeError\u001b[0m: data_from_angle() got an unexpected keyword argument 'theta'"
     ]
    }
   ],
   "source": [
    "# generate data to analyze:\n",
    "import numpy as np\n",
    "\n",
    "# position of light-house on x-axis:\n",
    "alpha = 1\n",
    "\n",
    "# position of light-house off shore:\n",
    "beta = 4\n",
    "\n",
    "def data_from_angle(thetas, alpha, beta):\n",
    "    return beta * np.tan(thetas) + alpha\n",
    "\n",
    "def generate_data(numberOfDataPoints = 10):\n",
    "    return np.random.uniform(size=numberOfDataPoints, low=-np.pi/2, high=np.pi/2)\n",
    "\n",
    "# test functions:\n",
    "theta_ks = generate_data()\n",
    "print(theta_ks)\n",
    "\n",
    "x_ks = data_from_angle(thetas=theta_ks, alpha=alpha, beta=beta)\n",
    "print(x_ks)\n"
   ]
  },
  {
   "cell_type": "code",
   "execution_count": 7,
   "metadata": {},
   "outputs": [
    {
     "data": {
      "text/plain": [
       "-3.141592653589793"
      ]
     },
     "execution_count": 7,
     "metadata": {},
     "output_type": "execute_result"
    }
   ],
   "source": []
  }
 ],
 "metadata": {
  "kernelspec": {
   "display_name": "condaPytorchEnv",
   "language": "python",
   "name": "python3"
  },
  "language_info": {
   "codemirror_mode": {
    "name": "ipython",
    "version": 3
   },
   "file_extension": ".py",
   "mimetype": "text/x-python",
   "name": "python",
   "nbconvert_exporter": "python",
   "pygments_lexer": "ipython3",
   "version": "3.10.13"
  }
 },
 "nbformat": 4,
 "nbformat_minor": 2
}

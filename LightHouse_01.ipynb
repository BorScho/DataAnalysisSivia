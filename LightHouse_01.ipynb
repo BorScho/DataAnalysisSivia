{
 "cells": [
  {
   "cell_type": "markdown",
   "metadata": {},
   "source": [
    "(Example from the Book p.29 ff)\n",
    "\n",
    "A lighthouse is somewhere off a piece of straight coastline at a position $\\alpha$ (alpha) along the shore and a distance <br>\n",
    "$\\beta$ (beta) out at sea. It emits a series of short highly collimated flashes at random intervals and hence at random azimuths, $\\theta$. <br>\n",
    "These pulses are intercepted on the coast by photo-detectors that record only the fact that a flash has occurred, but not <br>\n",
    "the angle from which it came. <br>\n",
    "N flashes have so far been recorded at positions $\\{x_k\\}$. Where is the lighthouse?’\n",
    "\n",
    "<img src=\"pictures01/lightHouseGeometry.jpg\">"
   ]
  },
  {
   "cell_type": "markdown",
   "metadata": {},
   "source": [
    "If we assume a uniform distribution, $ prob(\\theta | \\{x_k\\}, \\alpha, \\beta, I) = \\frac{1}{\\pi}$ for $\\theta$ between $[- \\pi/2 , + \\pi/2]$, we get a Cauchy-Distribution for the $x_k$ :\n",
    "\n",
    "$$\n",
    "prob(x_k | \\alpha, \\beta, I) = \\frac{\\beta}{\\pi [\\beta^2 + (x_k - \\alpha)^2]}\n",
    "$$\n",
    "\n",
    "Using Bayes' theorem and assuming independence of the measurements, the log-prob function L is given by:\n",
    "\n",
    "$$\n",
    "  L = log(prob(  \\alpha, \\beta | \\{x_k\\} , I) = const + \\sum^N_{k=1}{(log(\\beta) - log(\\beta^2 + (x_k - \\alpha)^2))}\n",
    "$$\n",
    "\n",
    "Our best estimate for $\\alpha$ and $\\beta$ are the values that maximize the log-prob function L.\n",
    "We can take the partial derivatives of L for $\\alpha$ and $\\beta$ and set them equal to zero and solve the equations numerically. Or we use gradient descent to find the minimum of -L, i.e. the maximum of L.\n",
    "Thus we end up with a non-liniear optimization problem / non-linear root finding problem that we will have to solve numerically:\n",
    "\n",
    "$$\n",
    "\\frac{\\partial L}{\\partial \\alpha} = \\sum^N_{k=1}{\\frac{2 (x_k - \\alpha)}{\\beta^2 + (x_k - \\alpha)^2}} = 0 \\\\\n",
    "\n",
    "\n",
    "\\frac{\\partial L}{\\partial \\beta} = \\frac{N}{\\beta} - \\sum^N_{k=1}{\\frac{2 \\beta}{\\beta^2 + (x_k - \\alpha)^2}} = 0\n",
    "$$"
   ]
  },
  {
   "cell_type": "code",
   "execution_count": 9,
   "metadata": {},
   "outputs": [
    {
     "data": {
      "text/plain": [
       "array([[  3.88689581,   3.26370043,   1.36051519,   0.53173531,\n",
       "         -0.52151401,   0.65913569,   1.70895004,   0.40935226,\n",
       "        -15.8044739 ,   1.5447968 ]])"
      ]
     },
     "execution_count": 9,
     "metadata": {},
     "output_type": "execute_result"
    }
   ],
   "source": [
    "# define a function that generates the data we want to use:\n",
    "\n",
    "import numpy as np\n",
    "\n",
    "a = 1       # on shore position of Lighthouse\n",
    "b = 2       # off shore position of Lighthouse\n",
    "N = 10      # number of datapoints /measurements to generate\n",
    "\n",
    "def generate_x_ks(a, b, N=10):\n",
    "    thetas = np.random.uniform(low= - np.pi * 0.5, high= np.pi * 0.5, size=(1,N))\n",
    "    x_ks = a + b * np.tan(thetas)\n",
    "    return x_ks\n",
    "\n",
    "# test:\n",
    "generate_x_ks(a, b, N)"
   ]
  },
  {
   "cell_type": "code",
   "execution_count": 10,
   "metadata": {},
   "outputs": [
    {
     "data": {
      "text/plain": [
       "-2.303835148863117"
      ]
     },
     "execution_count": 10,
     "metadata": {},
     "output_type": "execute_result"
    }
   ],
   "source": [
    "# define a function that gives back the partial derivative of L after a(lpha) as a function of a and b(eta):\n",
    "\n",
    "def grad_L_a(x_ks):\n",
    "    def grad(a, b):\n",
    "        diffs = x_ks - a\n",
    "        numerator = diffs\n",
    "        denominator = b**2 + diffs**2\n",
    "        fractions = numerator/denominator\n",
    "        return 2 * np.sum(fractions)  \n",
    "    return grad\n",
    "\n",
    "# test:\n",
    "a = 1\n",
    "b = 2\n",
    "x_ks = generate_x_ks(a,b)\n",
    "\n",
    "dLa = grad_L_a(x_ks)\n",
    "dLa(5, b)"
   ]
  },
  {
   "cell_type": "code",
   "execution_count": 11,
   "metadata": {},
   "outputs": [
    {
     "data": {
      "text/plain": [
       "0.27999940410352764"
      ]
     },
     "execution_count": 11,
     "metadata": {},
     "output_type": "execute_result"
    }
   ],
   "source": [
    "# define a function that gives back the partial derivative of L after b as a function of a and b:\n",
    "def grad_L_b(x_ks):\n",
    "    def grad(a, b):\n",
    "        N = np.size(x_ks)\n",
    "        diffs = x_ks - a\n",
    "        numerator = b\n",
    "        denominator = b**2 + diffs**2\n",
    "        fractions = numerator/denominator\n",
    "        return (N/b) - 2 * np.sum(fractions)  \n",
    "    return grad\n",
    "\n",
    "# test:\n",
    "a = 1\n",
    "b = 2\n",
    "x_ks = generate_x_ks(a,b)\n",
    "dLb = grad_L_b(x_ks)\n",
    "dLb(a, b)"
   ]
  },
  {
   "cell_type": "code",
   "execution_count": 12,
   "metadata": {},
   "outputs": [
    {
     "data": {
      "text/plain": [
       "' a = 11\\nb = 2\\nx_ks = generate_x_ks(a, b, 100)\\ngradient_descent(43, 7, x_ks) '"
      ]
     },
     "execution_count": 12,
     "metadata": {},
     "output_type": "execute_result"
    }
   ],
   "source": [
    "# implement gradient descent to find the maximum of L, i.e. the minimum of -L:\n",
    "\n",
    "def gradient_descent(x, y, x_ks, learning_rate=0.01, N_iterations=1000):\n",
    "    # y is the strarting-point for the off-shore distance - hence allways positive:\n",
    "    if y < 0 or y==0:\n",
    "        return\n",
    "    dL_da = grad_L_a(x_ks)\n",
    "    dL_db = grad_L_b(x_ks)\n",
    "    for _ in np.arange(N_iterations):\n",
    "        x_old = x\n",
    "        x = x + learning_rate * dL_da(x, y) # plus learningrate * ... is correct in this case, because we find the minimum of -L\n",
    "        y = y + learning_rate * dL_db(x_old, y)\n",
    "    return x,y\n",
    "\n",
    "# test:\n",
    "\"\"\" a = 11\n",
    "b = 2\n",
    "x_ks = generate_x_ks(a, b, 100)\n",
    "gradient_descent(43, 7, x_ks) \"\"\""
   ]
  },
  {
   "cell_type": "markdown",
   "metadata": {},
   "source": [
    "### Additonal things to do:\n",
    "- plot graphs of $prob(\\alpha | \\{x_k\\}, I)$ and $prob(\\beta | \\{x_k\\}, I)$\n",
    "- add (Gaussian) noise to the problem - either in $\\theta$ or in $x_k$\n",
    "- calculate error-bars for $\\alpha$ and $\\beta$ and the correlation-matrix\n",
    "- solve the problem by calculating the zeros of the partial derivatives (i.e. a different algorithm)\n",
    "- plot a sequence of graphs showing the successive approximation of the estimated location and the real location of the light-house. Add 90% prob-contours to the plot\n",
    "- make the sequence of plots an animation"
   ]
  },
  {
   "cell_type": "markdown",
   "metadata": {},
   "source": [
    "We want to plot the distributions of $\\alpha$ and $\\beta$. To that end we try to calculate the marginal distribution $prob(\\alpha|\\{x_k\\},I)$ by calculating the integral over $\\beta$ of $prob(  \\alpha, \\beta | \\{x_k\\} , I)$ by summation. <br>\n",
    "Using Bayes as usual we calculate with <br>\n",
    "$$\n",
    "prob(x_k | \\alpha, \\beta, I) = \\frac{\\beta}{\\pi [\\beta^2 + (x_k - \\alpha)^2]}\n",
    "$$ \n",
    "instead of\n",
    "$$\n",
    "prob(  \\alpha, \\beta | \\{x_k\\} , I)\n",
    "$$\n",
    "The list prob_a is the list of the values of the marginal distribution evaluated on the points of alpha_range. <br>\n",
    "<br>\n",
    "There is a problem though, as one can see, when executing the code in the next cells: the product of the probabilities $prob(x_k| \\alpha,\\beta,I)$ becomes very small the more datapoints $x_k$, we have, since all these probabilities are smaller then one. That's why I tried to sum over the logs of those probabilites - which does not help either... <br>\n",
    "So I am in need of some scaling here. Ironically I by dropping the normalization of the distributions, I dropped the scaling...<br>\n",
    "On the other handside - I just want to plot the graphs, I do not need the exact probabilities.\n",
    "\n",
    "Using Bayes' theorem and assuming independence of the measurements, the log-prob function L is given by:\n",
    "\n",
    "$$\n",
    "  L = log(prob(  \\alpha, \\beta | \\{x_k\\} , I) = const + \\sum^N_{k=1}{(log(\\beta) - log(\\beta^2 + (x_k - \\alpha)^2))}\n",
    "$$"
   ]
  },
  {
   "cell_type": "code",
   "execution_count": 13,
   "metadata": {},
   "outputs": [
    {
     "data": {
      "text/plain": [
       "' x_ks = np.array([1,2,3])\\nlog_prob = log_prob_Xk_g_a_b_I(x_ks=x_ks)\\na = 1\\nb = np.e\\nlog_prob(a,b) '"
      ]
     },
     "execution_count": 13,
     "metadata": {},
     "output_type": "execute_result"
    }
   ],
   "source": [
    "def log_prob_Xk_g_a_b_I(x_ks):\n",
    "    # returns a function log-prob(alpha,beta)\n",
    "    # which is the log of the prob of X_k given alpha, beta, I up to a constant \n",
    "    # - as a function of alpha and beta\n",
    "\n",
    "    def log_prob(alpha, beta):\n",
    "        N = x_ks.shape[0]\n",
    "        #print(f\"N={N}\")\n",
    "        diffs = x_ks - alpha\n",
    "        #print(f\"diffs**2={diffs**2}\")\n",
    "        return N * np.log(beta) - np.sum(np.log(beta**2 + diffs**2))\n",
    "    return log_prob\n",
    "\n",
    "# test:\n",
    "\"\"\" x_ks = np.array([1,2,3])\n",
    "log_prob = log_prob_Xk_g_a_b_I(x_ks=x_ks)\n",
    "a = 1\n",
    "b = np.e\n",
    "log_prob(a,b) \"\"\"\n",
    "\n"
   ]
  },
  {
   "cell_type": "code",
   "execution_count": 21,
   "metadata": {},
   "outputs": [
    {
     "name": "stderr",
     "output_type": "stream",
     "text": [
      "C:\\Users\\Hal9\\AppData\\Local\\Temp\\ipykernel_11028\\3938957500.py:11: RuntimeWarning: divide by zero encountered in log\n",
      "  return N * np.log(beta) - np.sum(np.log(beta**2 + diffs**2))\n"
     ]
    }
   ],
   "source": [
    "# try to calculate the marginal distribution prob(a|{x_k},I) - calculating the integral over b of prob(a,b|{x_k}, I) by sums\n",
    "# prob_a is the list of the values of the marginal distribution of a evaluated on the points of alpha_range.\n",
    "#\n",
    "# There is a problem though: the product of the probabilities prob({x_k}| a,b,I) becomes very small the more datapoints, x_k, we have...\n",
    "\n",
    "alpha_range = np.linspace(-20, 20, num=1000, retstep=True)\n",
    "beta_range = np.linspace(0, 10, num=100, retstep=True) # returns (samples, spacing between samples)\n",
    "\n",
    "# integration by summation:\n",
    "a = 5\n",
    "b = 4\n",
    "x_ks = generate_x_ks(a, b, 100)\n",
    "log_prob = log_prob_Xk_g_a_b_I(x_ks=x_ks)\n",
    "\n",
    "prob_a = []\n",
    "db = beta_range[1]\n",
    "for alpha in alpha_range[0]:\n",
    "    prob_beta = 0.0\n",
    "    for beta in beta_range[0]:\n",
    "        prob_beta = prob_beta + np.exp(log_prob(alpha,beta)) * db\n",
    "    \n",
    "    #print(f\"probs:{prob_beta}\")\n",
    "    prob_a.append(prob_beta)\n",
    "\n",
    "# this is the scaling I try:\n",
    "max_prob_a = max(prob_a)\n",
    "scaled_probs_a = np.array(prob_a)/max_prob_a\n",
    "\n",
    "# test:\n",
    "#scaled_probs_a\n",
    "\n",
    "# in the analogous way try to calculate the marginal distribution prob(b|{x_k},I) - calculating the integral over a of prob(a,b|{x_k}, I) by sums\n",
    "# prob_b is the list of the values of the marginal distribution of b evaluated on the points of beta_range.\n",
    "\n",
    "prob_b = []\n",
    "da = alpha_range[1]\n",
    "for beta in beta_range[0]:\n",
    "    prob_alpha = 0.0\n",
    "    for alpha in alpha_range[0]:\n",
    "        prob_alpha = prob_alpha + np.exp(log_prob(alpha,beta)) * da\n",
    "    \n",
    "    #print(f\"prob_alpha:{prob_alpha}\")\n",
    "    prob_b.append(prob_alpha)\n",
    "\n",
    "# this is the scaling I try:\n",
    "max_prob = max(prob_b) \n",
    "scaled_probs_b = np.array(prob_b)/max_prob\n",
    "\n",
    "\n",
    "\n"
   ]
  },
  {
   "cell_type": "code",
   "execution_count": 22,
   "metadata": {},
   "outputs": [
    {
     "name": "stderr",
     "output_type": "stream",
     "text": [
      "C:\\Users\\Hal9\\AppData\\Local\\Temp\\ipykernel_11028\\3938957500.py:11: RuntimeWarning: divide by zero encountered in log\n",
      "  return N * np.log(beta) - np.sum(np.log(beta**2 + diffs**2))\n"
     ]
    }
   ],
   "source": [
    "# try to calculate the marginal distribution prob(b|{x_k},I) - calculating the integral over a of prob(a,b|{x_k}, I) by sums\n",
    "# prob_b is the list of the values of the marginal distribution of b evaluated on the points of beta_range.\n",
    "\n",
    "prob_b = []\n",
    "da = alpha_range[1]\n",
    "for beta in beta_range[0]:\n",
    "    prob_alpha = 0.0\n",
    "    for alpha in alpha_range[0]:\n",
    "        prob_alpha = prob_alpha + np.exp(log_prob(alpha,beta)) * da\n",
    "    \n",
    "    #print(f\"prob_alpha:{prob_alpha}\")\n",
    "    prob_b.append(prob_alpha)\n",
    "\n",
    "# this is the scaling I try:\n",
    "max_prob = max(prob_b) \n",
    "scaled_probs_b = np.array(prob_b)/max_prob"
   ]
  },
  {
   "cell_type": "code",
   "execution_count": 23,
   "metadata": {},
   "outputs": [
    {
     "data": {
      "image/png": "[encoded data removed]",
      "text/plain": [
       "<Figure size 640x480 with 1 Axes>"
      ]
     },
     "metadata": {},
     "output_type": "display_data"
    }
   ],
   "source": [
    "import matplotlib.pyplot as plt\n",
    "\n",
    "plt.title(\"Marginal Distribution of alpha\")\n",
    "plt.plot(alpha_range[0], scaled_probs_a)\n",
    "plt.show()\n"
   ]
  },
  {
   "cell_type": "code",
   "execution_count": 24,
   "metadata": {},
   "outputs": [
    {
     "data": {
      "image/png": "[encoded data removed]",
      "text/plain": [
       "<Figure size 640x480 with 1 Axes>"
      ]
     },
     "metadata": {},
     "output_type": "display_data"
    }
   ],
   "source": [
    "plt.title(\"Marginal Distribution of beta\")\n",
    "plt.plot(beta_range[0], scaled_probs_b)\n",
    "plt.show()"
   ]
  },
  {
   "cell_type": "markdown",
   "metadata": {},
   "source": [
    "# It looks as if I missed something for the marginal distribution of beta"
   ]
  }
 ],
 "metadata": {
  "kernelspec": {
   "display_name": "condaPytorchEnv",
   "language": "python",
   "name": "python3"
  },
  "language_info": {
   "codemirror_mode": {
    "name": "ipython",
    "version": 3
   },
   "file_extension": ".py",
   "mimetype": "text/x-python",
   "name": "python",
   "nbconvert_exporter": "python",
   "pygments_lexer": "ipython3",
   "version": "3.10.13"
  }
 },
 "nbformat": 4,
 "nbformat_minor": 2
}
